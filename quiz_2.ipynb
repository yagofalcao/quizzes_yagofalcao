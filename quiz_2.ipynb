{
 "cells": [
  {
   "cell_type": "code",
   "execution_count": 24,
   "metadata": {},
   "outputs": [],
   "source": [
    "def quantidade(n):\n",
    "    notas = [100, 50, 20, 10, 5, 2, 1, 0.5, 0.25, 0.1, 0.05, 0.01]\n",
    "    soma = 0\n",
    "    conta = 0\n",
    "    for i in range(len(notas)):\n",
    "        while soma <= n - notas[i]:\n",
    "            soma += notas[i]\n",
    "            conta += 1\n",
    "    return conta   \n",
    "\n",
    "\n",
    "\n",
    "pi = 3.14\n",
    "class bola:\n",
    "    def __init__(self, p):\n",
    "        self.raio = p[0]\n",
    "        self.cor = p[1]\n",
    "        if p[1] == 'azul':\n",
    "            self.e = 1\n",
    "        elif p[1] == 'amarelo':\n",
    "            self.e = 2\n",
    "        else:\n",
    "            self.e = 3\n",
    "        self.vi = (4/3)*pi*(self.raio**3)\n",
    "        self.casca = 4*pi*(self.raio**2)*(self.e)/1000    \n",
    "    def peso(self):\n",
    "        return (self.vi + self.casca)\n",
    "    \n",
    "    \n",
    "def borda(array):\n",
    "    s = []\n",
    "    t = []\n",
    "    for i in range(0,len(array)):\n",
    "        for j in range(0,len(array[i])):\n",
    "            if i == 0 or j == 0 or j == len(array[i]) - 1 or i == len(array) - 1:\n",
    "                s.append(array[i][j])\n",
    "            else:\n",
    "                t.append(array[i][j])\n",
    "    borda = sum(s)\n",
    "    interior = sum(t)\n",
    "    return borda/interior"
   ]
  },
  {
   "cell_type": "code",
   "execution_count": null,
   "metadata": {},
   "outputs": [],
   "source": [
    "\n"
   ]
  },
  {
   "cell_type": "code",
   "execution_count": null,
   "metadata": {},
   "outputs": [],
   "source": []
  },
  {
   "cell_type": "code",
   "execution_count": null,
   "metadata": {},
   "outputs": [],
   "source": []
  },
  {
   "cell_type": "code",
   "execution_count": null,
   "metadata": {},
   "outputs": [],
   "source": []
  }
 ],
 "metadata": {
  "kernelspec": {
   "display_name": "Python 3",
   "language": "python",
   "name": "python3"
  },
  "language_info": {
   "codemirror_mode": {
    "name": "ipython",
    "version": 3
   },
   "file_extension": ".py",
   "mimetype": "text/x-python",
   "name": "python",
   "nbconvert_exporter": "python",
   "pygments_lexer": "ipython3",
   "version": "3.7.3"
  }
 },
 "nbformat": 4,
 "nbformat_minor": 2
}
